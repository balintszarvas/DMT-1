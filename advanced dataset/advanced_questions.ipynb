{
 "cells": [
  {
   "cell_type": "code",
   "execution_count": 17,
   "metadata": {},
   "outputs": [],
   "source": [
    "import numpy as np\n",
    "import pandas as pd\n",
    "from scipy.linalg import svd\n",
    "import matplotlib.pyplot as plt\n",
    "from sklearn import datasets, model_selection\n"
   ]
  },
  {
   "cell_type": "markdown",
   "metadata": {},
   "source": [
    "# Code"
   ]
  },
  {
   "cell_type": "code",
   "execution_count": null,
   "metadata": {},
   "outputs": [],
   "source": [
    "def euclidean_distance(x1, x2):\n",
    "    \"\"\"Compute pairwise Euclidean distances between two data points.\n",
    "    \n",
    "    Parameters\n",
    "    ----------\n",
    "    x1 : array, shape (N, 4)\n",
    "        First set of data points.\n",
    "    x2 : array, shape (M, 4)\n",
    "        Second set of data points.\n",
    "    \n",
    "    Returns\n",
    "    -------\n",
    "    distance : float array, shape (N, M)\n",
    "        Pairwise Euclidean distances between x1 and x2.\n",
    "    \"\"\"\n",
    "    return np.sqrt(np.sum((x1[:, None] - x2[None])**2, -1))"
   ]
  },
  {
   "cell_type": "code",
   "execution_count": null,
   "metadata": {},
   "outputs": [],
   "source": [
    "def get_neighbors_labels(X_train, y_train, X_new, k):\n",
    "    \"\"\"Get the labels of the k nearest neighbors of the datapoints x_new.\n",
    "    \n",
    "    Parameters\n",
    "    ----------\n",
    "    X_train : array, shape (N_train, 4)\n",
    "        Training features.\n",
    "    y_train : array, shape (N_train)\n",
    "        Training labels.\n",
    "    X_new : array, shape (M, 4)\n",
    "        Data points for which the neighbors have to be found.\n",
    "    k : int\n",
    "        Number of neighbors to return.\n",
    "        \n",
    "    Returns\n",
    "    -------\n",
    "    neighbors_labels : array, shape (M, k)\n",
    "        Array containing the labels of the k nearest neighbors.\n",
    "    \"\"\"\n",
    "    distances = euclidean_distance(X_new, X_train)\n",
    "    nearest = np.argsort(distances, axis=1)[:, :k]\n",
    "    return y_train[nearest]"
   ]
  },
  {
   "cell_type": "code",
   "execution_count": null,
   "metadata": {},
   "outputs": [],
   "source": [
    "def get_response(neighbors_labels, num_classes=3):\n",
    "    \"\"\"Predict label given the set of neighbors.\n",
    "    \n",
    "    Parameters\n",
    "    ----------\n",
    "    neighbors_labels : array, shape (M, k)\n",
    "        Array containing the labels of the k nearest neighbors per data point.\n",
    "    num_classes : int\n",
    "        Number of classes in the dataset.\n",
    "    \n",
    "    Returns\n",
    "    -------\n",
    "    y : int array, shape (M,)\n",
    "        Majority class among the neighbors.\n",
    "    \"\"\"\n",
    "    class_votes = (neighbors_labels[:, :, None] == np.arange(num_classes)[None, None]).sum(1)\n",
    "    return np.argmax(class_votes, 1)"
   ]
  },
  {
   "cell_type": "code",
   "execution_count": null,
   "metadata": {},
   "outputs": [],
   "source": [
    "def compute_accuracy(y_pred, y_test):\n",
    "    \"\"\"Compute accuracy of prediction.\n",
    "    \n",
    "    Parameters\n",
    "    ----------\n",
    "    y_pred : array, shape (N_test)\n",
    "        Predicted labels.\n",
    "    y_test : array, shape (N_test)\n",
    "        True labels.\n",
    "    \"\"\"\n",
    "    return np.mean(y_pred == y_test)"
   ]
  },
  {
   "cell_type": "code",
   "execution_count": null,
   "metadata": {},
   "outputs": [],
   "source": [
    "def predict(X_train, y_train, X_test, k):\n",
    "    \"\"\"Generate predictions for all points in the test set.\n",
    "    \n",
    "    Parameters\n",
    "    ----------\n",
    "    X_train : array, shape (N_train, 4)\n",
    "        Training features.        \n",
    "    y_train : array, shape (N_train)\n",
    "        Training labels.\n",
    "    X_test : array, shape (N_test, 4)\n",
    "        Test features.\n",
    "    k : int\n",
    "        Number of neighbors to consider.\n",
    "    \n",
    "    Returns\n",
    "    -------\n",
    "    y_pred : array, shape (N_test)\n",
    "        Predictions for the test data.\n",
    "    \"\"\"\n",
    "    neighbors = get_neighbors_labels(X_train, y_train, X_test, k)\n",
    "    y_pred = get_response(neighbors)\n",
    "    return y_pred"
   ]
  },
  {
   "cell_type": "code",
   "execution_count": null,
   "metadata": {},
   "outputs": [],
   "source": [
    "##  Tesontinf\n",
    "\n",
    "# generate predictions\n",
    "k = 3\n",
    "y_pred = predict(X_train, y_train, X_test, k)\n",
    "accuracy = compute_accuracy(y_pred, y_test)\n",
    "print('Accuracy = {0}'.format(accuracy))"
   ]
  },
  {
   "cell_type": "code",
   "execution_count": null,
   "metadata": {},
   "outputs": [],
   "source": []
  },
  {
   "cell_type": "code",
   "execution_count": null,
   "metadata": {},
   "outputs": [],
   "source": [
    "# model_selection.train_test_split(X, y, random_state=123, test_size=(1 - split))"
   ]
  },
  {
   "cell_type": "markdown",
   "metadata": {},
   "source": [
    "# Data preview / Cleaning"
   ]
  },
  {
   "cell_type": "code",
   "execution_count": 59,
   "metadata": {},
   "outputs": [
    {
     "data": {
      "text/html": [
       "<div>\n",
       "<style scoped>\n",
       "    .dataframe tbody tr th:only-of-type {\n",
       "        vertical-align: middle;\n",
       "    }\n",
       "\n",
       "    .dataframe tbody tr th {\n",
       "        vertical-align: top;\n",
       "    }\n",
       "\n",
       "    .dataframe thead th {\n",
       "        text-align: right;\n",
       "    }\n",
       "</style>\n",
       "<table border=\"1\" class=\"dataframe\">\n",
       "  <thead>\n",
       "    <tr style=\"text-align: right;\">\n",
       "      <th></th>\n",
       "      <th>id</th>\n",
       "      <th>time</th>\n",
       "      <th>variable</th>\n",
       "      <th>value</th>\n",
       "      <th>day</th>\n",
       "    </tr>\n",
       "  </thead>\n",
       "  <tbody>\n",
       "    <tr>\n",
       "      <th>0</th>\n",
       "      <td>AS14.01</td>\n",
       "      <td>13:00:00.000</td>\n",
       "      <td>mood</td>\n",
       "      <td>6.0</td>\n",
       "      <td>2014-02-26</td>\n",
       "    </tr>\n",
       "    <tr>\n",
       "      <th>1</th>\n",
       "      <td>AS14.01</td>\n",
       "      <td>15:00:00.000</td>\n",
       "      <td>mood</td>\n",
       "      <td>6.0</td>\n",
       "      <td>2014-02-26</td>\n",
       "    </tr>\n",
       "    <tr>\n",
       "      <th>2</th>\n",
       "      <td>AS14.01</td>\n",
       "      <td>18:00:00.000</td>\n",
       "      <td>mood</td>\n",
       "      <td>6.0</td>\n",
       "      <td>2014-02-26</td>\n",
       "    </tr>\n",
       "    <tr>\n",
       "      <th>3</th>\n",
       "      <td>AS14.01</td>\n",
       "      <td>21:00:00.000</td>\n",
       "      <td>mood</td>\n",
       "      <td>7.0</td>\n",
       "      <td>2014-02-26</td>\n",
       "    </tr>\n",
       "    <tr>\n",
       "      <th>4</th>\n",
       "      <td>AS14.01</td>\n",
       "      <td>09:00:00.000</td>\n",
       "      <td>mood</td>\n",
       "      <td>6.0</td>\n",
       "      <td>2014-02-27</td>\n",
       "    </tr>\n",
       "  </tbody>\n",
       "</table>\n",
       "</div>"
      ],
      "text/plain": [
       "        id          time variable  value         day\n",
       "0  AS14.01  13:00:00.000     mood    6.0  2014-02-26\n",
       "1  AS14.01  15:00:00.000     mood    6.0  2014-02-26\n",
       "2  AS14.01  18:00:00.000     mood    6.0  2014-02-26\n",
       "3  AS14.01  21:00:00.000     mood    7.0  2014-02-26\n",
       "4  AS14.01  09:00:00.000     mood    6.0  2014-02-27"
      ]
     },
     "execution_count": 59,
     "metadata": {},
     "output_type": "execute_result"
    }
   ],
   "source": [
    "df = pd.read_csv('../dataset_mood_smartphone.csv')\n",
    "df = df.drop('Unnamed: 0', axis = 1)\n",
    "df[['day', 'time']] = df['time'].str.split(' ', expand=True)\n",
    "df.head()"
   ]
  },
  {
   "cell_type": "code",
   "execution_count": 65,
   "metadata": {},
   "outputs": [],
   "source": [
    "columns = ['number', 'min', 'max']\n",
    "rows = ['id','time','day']"
   ]
  },
  {
   "cell_type": "code",
   "execution_count": 74,
   "metadata": {},
   "outputs": [],
   "source": [
    "table = pd.DataFrame(index = rows,columns= columns)"
   ]
  },
  {
   "cell_type": "code",
   "execution_count": 67,
   "metadata": {},
   "outputs": [],
   "source": [
    "variables = df['variable'].unique()\n",
    "ids = df['id'].unique()\n",
    "days = df['day'].unique()\n",
    "times = df['time'].unique()"
   ]
  },
  {
   "cell_type": "code",
   "execution_count": 77,
   "metadata": {},
   "outputs": [
    {
     "data": {
      "text/plain": [
       "number    NaN\n",
       "min       NaN\n",
       "max       NaN\n",
       "Name: id, dtype: object"
      ]
     },
     "execution_count": 77,
     "metadata": {},
     "output_type": "execute_result"
    }
   ],
   "source": [
    "table.loc['id']"
   ]
  },
  {
   "cell_type": "code",
   "execution_count": 68,
   "metadata": {},
   "outputs": [],
   "source": [
    "low_range = df.min()\n",
    "up_range = df.max()"
   ]
  },
  {
   "cell_type": "code",
   "execution_count": 78,
   "metadata": {},
   "outputs": [],
   "source": [
    "table.loc['id'] = [ids.shape[0],low_range['id'], up_range['id']]\n",
    "table.loc['day'] = [days.shape[0],low_range['day'], up_range['day']]\n",
    "table.loc['time'] = [times.shape[0],low_range['time'], up_range['time']]"
   ]
  },
  {
   "cell_type": "code",
   "execution_count": 79,
   "metadata": {},
   "outputs": [
    {
     "data": {
      "text/html": [
       "<div>\n",
       "<style scoped>\n",
       "    .dataframe tbody tr th:only-of-type {\n",
       "        vertical-align: middle;\n",
       "    }\n",
       "\n",
       "    .dataframe tbody tr th {\n",
       "        vertical-align: top;\n",
       "    }\n",
       "\n",
       "    .dataframe thead th {\n",
       "        text-align: right;\n",
       "    }\n",
       "</style>\n",
       "<table border=\"1\" class=\"dataframe\">\n",
       "  <thead>\n",
       "    <tr style=\"text-align: right;\">\n",
       "      <th></th>\n",
       "      <th>number</th>\n",
       "      <th>min</th>\n",
       "      <th>max</th>\n",
       "    </tr>\n",
       "  </thead>\n",
       "  <tbody>\n",
       "    <tr>\n",
       "      <th>id</th>\n",
       "      <td>27</td>\n",
       "      <td>AS14.01</td>\n",
       "      <td>AS14.33</td>\n",
       "    </tr>\n",
       "    <tr>\n",
       "      <th>time</th>\n",
       "      <td>333445</td>\n",
       "      <td>00:00:00.000</td>\n",
       "      <td>23:59:59.946</td>\n",
       "    </tr>\n",
       "    <tr>\n",
       "      <th>day</th>\n",
       "      <td>113</td>\n",
       "      <td>2014-02-17</td>\n",
       "      <td>2014-06-09</td>\n",
       "    </tr>\n",
       "  </tbody>\n",
       "</table>\n",
       "</div>"
      ],
      "text/plain": [
       "      number           min           max\n",
       "id        27       AS14.01       AS14.33\n",
       "time  333445  00:00:00.000  23:59:59.946\n",
       "day      113    2014-02-17    2014-06-09"
      ]
     },
     "execution_count": 79,
     "metadata": {},
     "output_type": "execute_result"
    }
   ],
   "source": [
    "table"
   ]
  },
  {
   "cell_type": "code",
   "execution_count": 84,
   "metadata": {},
   "outputs": [],
   "source": [
    "var_range = []\n",
    "for i,var in enumerate(variables):\n",
    "    data = df[df['variable'] == var]['value']\n",
    "    var_range += [np.array([np.max(data),np.min(data)])]"
   ]
  },
  {
   "cell_type": "code",
   "execution_count": 91,
   "metadata": {},
   "outputs": [],
   "source": [
    "table_var = pd.DataFrame(index = [variables],columns= ['up_range', 'low_range'])"
   ]
  },
  {
   "cell_type": "code",
   "execution_count": 92,
   "metadata": {},
   "outputs": [],
   "source": [
    "for i,var in enumerate(variables):\n",
    "    table_var.iloc[i] = var_range[i]"
   ]
  },
  {
   "cell_type": "code",
   "execution_count": 93,
   "metadata": {},
   "outputs": [
    {
     "data": {
      "text/html": [
       "<div>\n",
       "<style scoped>\n",
       "    .dataframe tbody tr th:only-of-type {\n",
       "        vertical-align: middle;\n",
       "    }\n",
       "\n",
       "    .dataframe tbody tr th {\n",
       "        vertical-align: top;\n",
       "    }\n",
       "\n",
       "    .dataframe thead th {\n",
       "        text-align: right;\n",
       "    }\n",
       "</style>\n",
       "<table border=\"1\" class=\"dataframe\">\n",
       "  <thead>\n",
       "    <tr style=\"text-align: right;\">\n",
       "      <th></th>\n",
       "      <th>up_range</th>\n",
       "      <th>low_range</th>\n",
       "    </tr>\n",
       "  </thead>\n",
       "  <tbody>\n",
       "    <tr>\n",
       "      <th>mood</th>\n",
       "      <td>10.0</td>\n",
       "      <td>1.0</td>\n",
       "    </tr>\n",
       "    <tr>\n",
       "      <th>circumplex.arousal</th>\n",
       "      <td>2.0</td>\n",
       "      <td>-2.0</td>\n",
       "    </tr>\n",
       "    <tr>\n",
       "      <th>circumplex.valence</th>\n",
       "      <td>2.0</td>\n",
       "      <td>-2.0</td>\n",
       "    </tr>\n",
       "    <tr>\n",
       "      <th>activity</th>\n",
       "      <td>1.0</td>\n",
       "      <td>0.0</td>\n",
       "    </tr>\n",
       "    <tr>\n",
       "      <th>screen</th>\n",
       "      <td>9867.007</td>\n",
       "      <td>0.035</td>\n",
       "    </tr>\n",
       "    <tr>\n",
       "      <th>call</th>\n",
       "      <td>1.0</td>\n",
       "      <td>1.0</td>\n",
       "    </tr>\n",
       "    <tr>\n",
       "      <th>sms</th>\n",
       "      <td>1.0</td>\n",
       "      <td>1.0</td>\n",
       "    </tr>\n",
       "    <tr>\n",
       "      <th>appCat.builtin</th>\n",
       "      <td>33960.246</td>\n",
       "      <td>-82798.871</td>\n",
       "    </tr>\n",
       "    <tr>\n",
       "      <th>appCat.communication</th>\n",
       "      <td>9830.777</td>\n",
       "      <td>0.006</td>\n",
       "    </tr>\n",
       "    <tr>\n",
       "      <th>appCat.entertainment</th>\n",
       "      <td>32148.677</td>\n",
       "      <td>-0.011</td>\n",
       "    </tr>\n",
       "    <tr>\n",
       "      <th>appCat.finance</th>\n",
       "      <td>355.513</td>\n",
       "      <td>0.131</td>\n",
       "    </tr>\n",
       "    <tr>\n",
       "      <th>appCat.game</th>\n",
       "      <td>5491.793</td>\n",
       "      <td>1.003</td>\n",
       "    </tr>\n",
       "    <tr>\n",
       "      <th>appCat.office</th>\n",
       "      <td>32708.818</td>\n",
       "      <td>0.003</td>\n",
       "    </tr>\n",
       "    <tr>\n",
       "      <th>appCat.other</th>\n",
       "      <td>3892.038</td>\n",
       "      <td>0.014</td>\n",
       "    </tr>\n",
       "    <tr>\n",
       "      <th>appCat.social</th>\n",
       "      <td>30000.906</td>\n",
       "      <td>0.094</td>\n",
       "    </tr>\n",
       "    <tr>\n",
       "      <th>appCat.travel</th>\n",
       "      <td>10452.615</td>\n",
       "      <td>0.08</td>\n",
       "    </tr>\n",
       "    <tr>\n",
       "      <th>appCat.unknown</th>\n",
       "      <td>2239.937</td>\n",
       "      <td>0.111</td>\n",
       "    </tr>\n",
       "    <tr>\n",
       "      <th>appCat.utilities</th>\n",
       "      <td>1802.649</td>\n",
       "      <td>0.246</td>\n",
       "    </tr>\n",
       "    <tr>\n",
       "      <th>appCat.weather</th>\n",
       "      <td>344.863</td>\n",
       "      <td>1.003</td>\n",
       "    </tr>\n",
       "  </tbody>\n",
       "</table>\n",
       "</div>"
      ],
      "text/plain": [
       "                       up_range  low_range\n",
       "mood                       10.0        1.0\n",
       "circumplex.arousal          2.0       -2.0\n",
       "circumplex.valence          2.0       -2.0\n",
       "activity                    1.0        0.0\n",
       "screen                 9867.007      0.035\n",
       "call                        1.0        1.0\n",
       "sms                         1.0        1.0\n",
       "appCat.builtin        33960.246 -82798.871\n",
       "appCat.communication   9830.777      0.006\n",
       "appCat.entertainment  32148.677     -0.011\n",
       "appCat.finance          355.513      0.131\n",
       "appCat.game            5491.793      1.003\n",
       "appCat.office         32708.818      0.003\n",
       "appCat.other           3892.038      0.014\n",
       "appCat.social         30000.906      0.094\n",
       "appCat.travel         10452.615       0.08\n",
       "appCat.unknown         2239.937      0.111\n",
       "appCat.utilities       1802.649      0.246\n",
       "appCat.weather          344.863      1.003"
      ]
     },
     "execution_count": 93,
     "metadata": {},
     "output_type": "execute_result"
    }
   ],
   "source": [
    "table_var"
   ]
  },
  {
   "cell_type": "code",
   "execution_count": 9,
   "metadata": {},
   "outputs": [
    {
     "name": "stdout",
     "output_type": "stream",
     "text": [
      "[  0.  46. 156.   0.   0.   0.   0.   0.   0.   0.   0.   0.   0.   0.\n",
      "   0.   0.   0.   0.   0.]\n"
     ]
    }
   ],
   "source": [
    "zeros_var = np.zeros(variables.shape[0])\n",
    "\n",
    "for i,var in enumerate(variables):\n",
    "    df_min = df[df['variable'] == var]\n",
    "    zeros_var[i] = df_min.isna().sum().sum()\n",
    "print(zeros_var)"
   ]
  },
  {
   "cell_type": "code",
   "execution_count": 10,
   "metadata": {},
   "outputs": [
    {
     "name": "stdout",
     "output_type": "stream",
     "text": [
      "[17.  0.  0.  7.  3.  2.  3.  6. 10.  0.  0. 11. 43. 11.  0.  0.  0. 35.\n",
      "  1.  2.  0. 39.  0.  0.  0.  0. 12.]\n"
     ]
    }
   ],
   "source": [
    "zeros_ids = np.zeros(ids.shape[0])\n",
    "\n",
    "for i,var in enumerate(ids):\n",
    "    df_min = df[df['id'] == var]\n",
    "    zeros_ids[i] = df_min.isna().sum().sum()\n",
    "print(zeros_ids)"
   ]
  },
  {
   "cell_type": "code",
   "execution_count": 12,
   "metadata": {},
   "outputs": [
    {
     "data": {
      "image/png": "[encoded data removed]",
      "text/plain": [
       "<Figure size 640x480 with 1 Axes>"
      ]
     },
     "metadata": {},
     "output_type": "display_data"
    }
   ],
   "source": [
    "\n",
    "fig, ax = plt.subplots()\n",
    "\n",
    "\n",
    "ax.bar(ids, zeros_ids)\n",
    "\n",
    "ax.set_xlabel('Labels')\n",
    "ax.set_ylabel('Values')\n",
    "ax.set_title('Bar Plot with Labels')\n",
    "plt.xticks(rotation='vertical')\n",
    "\n",
    "plt.show()"
   ]
  },
  {
   "cell_type": "code",
   "execution_count": 34,
   "metadata": {},
   "outputs": [
    {
     "data": {
      "image/png": "[encoded data removed]",
      "text/plain": [
       "<Figure size 640x480 with 1 Axes>"
      ]
     },
     "metadata": {},
     "output_type": "display_data"
    }
   ],
   "source": [
    "\n",
    "fig, ax = plt.subplots()\n",
    "\n",
    "\n",
    "ax.bar(variables, zeros_var)\n",
    "\n",
    "ax.set_xlabel('Labels')\n",
    "ax.set_ylabel('Values')\n",
    "ax.set_title('Bar Plot with Labels')\n",
    "plt.xticks(rotation='vertical')\n",
    "\n",
    "plt.show()\n"
   ]
  },
  {
   "cell_type": "code",
   "execution_count": null,
   "metadata": {},
   "outputs": [],
   "source": [
    "df_13 = df[df['id'] == 'AS14.13']"
   ]
  },
  {
   "cell_type": "code",
   "execution_count": 19,
   "metadata": {},
   "outputs": [
    {
     "data": {
      "text/plain": [
       "202"
      ]
     },
     "execution_count": 19,
     "metadata": {},
     "output_type": "execute_result"
    }
   ],
   "source": [
    "df.isna().sum().sum()"
   ]
  },
  {
   "cell_type": "markdown",
   "metadata": {},
   "source": [
    "# Task: 1,B"
   ]
  },
  {
   "cell_type": "code",
   "execution_count": null,
   "metadata": {},
   "outputs": [],
   "source": [
    "def moving_average(data):\n",
    "    "
   ]
  }
 ],
 "metadata": {
  "kernelspec": {
   "display_name": "base",
   "language": "python",
   "name": "python3"
  },
  "language_info": {
   "codemirror_mode": {
    "name": "ipython",
    "version": 3
   },
   "file_extension": ".py",
   "mimetype": "text/x-python",
   "name": "python",
   "nbconvert_exporter": "python",
   "pygments_lexer": "ipython3",
   "version": "3.11.4"
  }
 },
 "nbformat": 4,
 "nbformat_minor": 2
}
