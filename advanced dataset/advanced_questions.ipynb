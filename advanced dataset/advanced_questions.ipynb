{
 "cells": [
  {
   "cell_type": "code",
   "execution_count": 8,
   "metadata": {},
   "outputs": [],
   "source": [
    "import numpy as np\n",
    "import pandas as pd\n",
    "from scipy.linalg import svd\n",
    "import matplotlib.pyplot as plt\n",
    "from sklearn import datasets, model_selection\n"
   ]
  },
  {
   "cell_type": "markdown",
   "metadata": {},
   "source": [
    "# Data preview / Cleaning"
   ]
  },
  {
   "cell_type": "code",
   "execution_count": 9,
   "metadata": {},
   "outputs": [],
   "source": [
    "df = pd.read_csv('../dataset_mood_smartphone.csv')\n",
    "df = df.drop('Unnamed: 0', axis = 1)\n",
    "df[['day', 'time']] = df['time'].str.split(' ', expand=True)\n",
    "df.head()\n",
    "variables = df['variable'].unique()\n",
    "ids = df['id'].unique()\n",
    "days = df['day'].unique()\n",
    "times = df['time'].unique()"
   ]
  },
  {
   "cell_type": "markdown",
   "metadata": {},
   "source": [
    "## Tables creation"
   ]
  },
  {
   "cell_type": "code",
   "execution_count": 10,
   "metadata": {},
   "outputs": [],
   "source": [
    "table = pd.DataFrame(index = rows,columns= columns)\n",
    "columns = ['number', 'min', 'max']\n",
    "rows = ['id','time','day']\n",
    "low_range = df.min()\n",
    "up_range = df.max()\n",
    "table.loc['id'] = [ids.shape[0],low_range['id'], up_range['id']]\n",
    "table.loc['day'] = [days.shape[0],low_range['day'], up_range['day']]\n",
    "table.loc['time'] = [times.shape[0],low_range['time'], up_range['time']]\n",
    "table"
   ]
  },
  {
   "cell_type": "code",
   "execution_count": 84,
   "metadata": {},
   "outputs": [],
   "source": [
    "table_var = pd.DataFrame(index = [variables],columns= ['up_range', 'low_range'])\n",
    "var_range = []\n",
    "for i,var in enumerate(variables):\n",
    "    data = df[df['variable'] == var]['value']\n",
    "    var_range += [np.array([np.max(data),np.min(data)])]\n",
    "for i,var in enumerate(variables):\n",
    "    table_var.iloc[i] = var_range[i]"
   ]
  },
  {
   "cell_type": "markdown",
   "metadata": {},
   "source": [
    "## Plots"
   ]
  },
  {
   "cell_type": "code",
   "execution_count": null,
   "metadata": {},
   "outputs": [
    {
     "name": "stdout",
     "output_type": "stream",
     "text": [
      "[  0.  46. 156.   0.   0.   0.   0.   0.   0.   0.   0.   0.   0.   0.\n",
      "   0.   0.   0.   0.   0.]\n"
     ]
    }
   ],
   "source": [
    "zeros_var = np.zeros(variables.shape[0])\n",
    "\n",
    "for i,var in enumerate(variables):\n",
    "    df_min = df[df['variable'] == var]\n",
    "    zeros_var[i] = df_min.isna().sum().sum()\n",
    "\n",
    "fig, ax = plt.subplots()\n",
    "\n",
    "\n",
    "ax.bar(variables, zeros_var)\n",
    "\n",
    "ax.set_xlabel('Labels')\n",
    "ax.set_ylabel('Values')\n",
    "ax.set_title('Bar Plot with Labels')\n",
    "plt.xticks(rotation='vertical')\n",
    "\n",
    "plt.show()"
   ]
  },
  {
   "cell_type": "code",
   "execution_count": 10,
   "metadata": {},
   "outputs": [
    {
     "name": "stdout",
     "output_type": "stream",
     "text": [
      "[17.  0.  0.  7.  3.  2.  3.  6. 10.  0.  0. 11. 43. 11.  0.  0.  0. 35.\n",
      "  1.  2.  0. 39.  0.  0.  0.  0. 12.]\n"
     ]
    }
   ],
   "source": [
    "zeros_ids = np.zeros(ids.shape[0])\n",
    "\n",
    "for i,var in enumerate(ids):\n",
    "    df_min = df[df['id'] == var]\n",
    "\n",
    "fig, ax = plt.subplots()\n",
    "\n",
    "\n",
    "ax.bar(ids, zeros_ids)\n",
    "\n",
    "ax.set_xlabel('Labels')\n",
    "ax.set_ylabel('Values')\n",
    "ax.set_title('Bar Plot with Labels')\n",
    "plt.xticks(rotation='vertical')\n",
    "\n",
    "plt.show()"
   ]
  },
  {
   "cell_type": "markdown",
   "metadata": {},
   "source": [
    "# Task: 1,B"
   ]
  },
  {
   "cell_type": "markdown",
   "metadata": {},
   "source": [
    "## Moving average"
   ]
  },
  {
   "cell_type": "code",
   "execution_count": 6,
   "metadata": {},
   "outputs": [],
   "source": [
    "def moving_average(data):\n",
    "    while np.any(np.isnan(arr)):\n",
    "        pos = np.argmax(np.isnan(data))\n",
    "        data[pos] = np.mean(data[:pos])\n",
    "    return data"
   ]
  },
  {
   "cell_type": "code",
   "execution_count": 7,
   "metadata": {},
   "outputs": [
    {
     "name": "stdout",
     "output_type": "stream",
     "text": [
      "['mood' 'circumplex.arousal' 'circumplex.valence' 'activity' 'screen'\n",
      " 'call' 'sms' 'appCat.builtin' 'appCat.communication'\n",
      " 'appCat.entertainment' 'appCat.finance' 'appCat.game' 'appCat.office'\n",
      " 'appCat.other' 'appCat.social' 'appCat.travel' 'appCat.unknown'\n",
      " 'appCat.utilities' 'appCat.weather']\n"
     ]
    }
   ],
   "source": [
    "print(variables)"
   ]
  },
  {
   "cell_type": "code",
   "execution_count": null,
   "metadata": {},
   "outputs": [],
   "source": [
    "for i_d in ids:\n",
    "    data_arousal = df[df['id'] == i_d]['circumplex.arousal']\n",
    "    data_valence = df[df['id'] == i_d]['circumplex.valence']\n",
    "    data_arousal = moving_average(data_arousal)\n",
    "    data_valence = moving_average()"
   ]
  }
 ],
 "metadata": {
  "kernelspec": {
   "display_name": "base",
   "language": "python",
   "name": "python3"
  },
  "language_info": {
   "codemirror_mode": {
    "name": "ipython",
    "version": 3
   },
   "file_extension": ".py",
   "mimetype": "text/x-python",
   "name": "python",
   "nbconvert_exporter": "python",
   "pygments_lexer": "ipython3",
   "version": "3.11.4"
  }
 },
 "nbformat": 4,
 "nbformat_minor": 2
}
